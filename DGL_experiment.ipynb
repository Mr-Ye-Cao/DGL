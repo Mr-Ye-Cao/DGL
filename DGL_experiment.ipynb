{
  "nbformat": 4,
  "nbformat_minor": 0,
  "metadata": {
    "colab": {
      "name": "DGL_experiment.ipynb",
      "provenance": []
    },
    "kernelspec": {
      "name": "python3",
      "display_name": "Python 3"
    }
  },
  "cells": [
    {
      "cell_type": "code",
      "metadata": {
        "colab": {
          "base_uri": "https://localhost:8080/"
        },
        "id": "qAa7tdEyCZAh",
        "outputId": "3adb52cf-ec51-42df-e0bd-7dab651d703f"
      },
      "source": [
        "import dgl\n",
        "import torch as th\n",
        "# edges 0->1, 0->2, 0->3, 1->3\n",
        "u, v = th.tensor([0, 0, 0, 1]), th.tensor([1, 2, 3, 3])\n",
        "g = dgl.graph((u, v))\n",
        "print(g) # number of nodes are inferred from the max node IDs in the given edges\n",
        "# Node IDs\n",
        "print(g.nodes())\n",
        "# Edge end nodes\n",
        "print(g.edges())\n",
        "# Edge end nodes and edge IDs\n",
        "print(g.edges(form='all'))\n",
        "# If the node with the largest ID is isolated (meaning no edges),\n",
        "# then one needs to explicitly set the number of nodes\n",
        "g = dgl.graph((u, v), num_nodes=8)"
      ],
      "execution_count": 5,
      "outputs": [
        {
          "output_type": "stream",
          "text": [
            "Graph(num_nodes=4, num_edges=4,\n",
            "      ndata_schemes={}\n",
            "      edata_schemes={})\n",
            "tensor([0, 1, 2, 3])\n",
            "(tensor([0, 0, 0, 1]), tensor([1, 2, 3, 3]))\n",
            "(tensor([0, 0, 0, 1]), tensor([1, 2, 3, 3]), tensor([0, 1, 2, 3]))\n"
          ],
          "name": "stdout"
        }
      ]
    },
    {
      "cell_type": "markdown",
      "metadata": {
        "id": "cRXrV2ENGNSf"
      },
      "source": [
        "DGL prefers using a tensor for initiation. \n",
        "All of the edges are directed in DGL."
      ]
    },
    {
      "cell_type": "code",
      "metadata": {
        "id": "f0zpUSGlGMLI"
      },
      "source": [
        "edges = th.tensor([2, 5, 3]), th.tensor([3, 5, 0])  # edges 2->3, 5->5, 3->0\n",
        "g64 = dgl.graph(edges)  # DGL uses int64 by default\n",
        "#print(g64.idtype)\n",
        "g32 = dgl.graph(edges, idtype=th.int32)  # create a int32 graph\n",
        "#print(g32.idtype)\n",
        "g64_2 = g32.long()  # convert to int64\n",
        "#g64_2.idtype\n",
        "g32_2 = g64.int()  # convert to int32\n",
        "#g32_2.idtype"
      ],
      "execution_count": 10,
      "outputs": []
    },
    {
      "cell_type": "markdown",
      "metadata": {
        "id": "3tGYG5cCGYrB"
      },
      "source": [
        "Two types of data_type for storing node id: 32_bit int and 64_bit int.\n",
        "The default is int_64. Use idtype=th.int32 to explicitly override."
      ]
    },
    {
      "cell_type": "code",
      "metadata": {
        "colab": {
          "base_uri": "https://localhost:8080/"
        },
        "id": "5wDj8XS7Iq2H",
        "outputId": "7748bca5-5a45-43da-a3ee-98164b12bbe3"
      },
      "source": [
        "# edges 0->1, 0->2, 0->3, 1->3\n",
        "edges = th.tensor([0, 0, 0, 1]), th.tensor([1, 2, 3, 3])\n",
        "weights = th.tensor([0.1, 0.6, 0.9, 0.7])  # weight of each edge\n",
        "g = dgl.graph(edges)\n",
        "g.edata['w'] = weights  # give it a name 'w'\n",
        "g"
      ],
      "execution_count": 14,
      "outputs": [
        {
          "output_type": "execute_result",
          "data": {
            "text/plain": [
              "Graph(num_nodes=4, num_edges=4,\n",
              "      ndata_schemes={}\n",
              "      edata_schemes={'w': Scheme(shape=(), dtype=torch.float32)})"
            ]
          },
          "metadata": {
            "tags": []
          },
          "execution_count": 14
        }
      ]
    },
    {
      "cell_type": "markdown",
      "metadata": {
        "id": "H-LjilduMYw8"
      },
      "source": [
        "Node feature / Edge feature (ndata, edata)"
      ]
    },
    {
      "cell_type": "code",
      "metadata": {
        "id": "O63YxTcMU8Ic"
      },
      "source": [
        "import dgl\n",
        "import torch as th\n",
        "u, v = th.tensor([0, 1, 2]), th.tensor([2, 3, 4])\n",
        "g = dgl.graph((u, v))\n",
        "g.ndata['x'] = th.randn(5, 3)  # original feature is on CPU\n",
        "g.device\n",
        "cuda_g = g.to('cuda:0')  # accepts any device objects from backend framework\n",
        "cuda_g.device"
      ],
      "execution_count": null,
      "outputs": []
    },
    {
      "cell_type": "markdown",
      "metadata": {
        "id": "PL6TVPezYq97"
      },
      "source": [
        "Creating graph under GPU"
      ]
    }
  ]
}